{
 "cells": [
  {
   "cell_type": "markdown",
   "id": "d140d9cf",
   "metadata": {},
   "source": [
    "# euro area economic dashboard\n",
    "\n",
    "this notebook collects and visualises key macroeconomic indicators for the euro area using official data from the ecb.\n",
    "\n",
    "it includes real gdp, the unemployment rate, and the harmonised index of consumer prices (hicp). data is retrieved directly from the ecb statistical data warehouse (sdw).\n",
    "\n",
    "the dashboard provides a quick reference for tracking business cycle dynamics and inflation trends."
   ]
  },
  {
   "cell_type": "code",
   "execution_count": null,
   "id": "1c4c03af",
   "metadata": {},
   "outputs": [],
   "source": [
    "!pip install pandasdmx"
   ]
  },
  {
   "cell_type": "code",
   "execution_count": null,
   "id": "ebbfb7e1",
   "metadata": {},
   "outputs": [],
   "source": [
    "import pandasdmx\n",
    "import matplotlib.pyplot as plt\n",
    "import pandas as pd"
   ]
  },
  {
   "cell_type": "code",
   "execution_count": null,
   "id": "f2bfec3d",
   "metadata": {},
   "outputs": [],
   "source": [
    "ecb = pandasdmx.Request('ECB')"
   ]
  },
  {
   "cell_type": "code",
   "execution_count": null,
   "id": "f4d8776d",
   "metadata": {},
   "outputs": [],
   "source": [
    "# hicp – harmonised index of consumer prices (monthly, euro area)\n",
    "resp = ecb.data(resource_id='PRICES_HICP', key='..CP00.EA')\n",
    "hicp = resp.to_pandas().squeeze()\n",
    "\n",
    "hicp.plot(title='euro area hicp (monthly)')\n",
    "plt.ylabel('index')\n",
    "plt.show()"
   ]
  },
  {
   "cell_type": "code",
   "execution_count": null,
   "id": "71dd0251",
   "metadata": {},
   "outputs": [],
   "source": [
    "# unemployment rate (monthly, euro area)\n",
    "resp = ecb.data(resource_id='UNE_RT_M', key='..M.EA19.4.0.0.0')\n",
    "unemployment = resp.to_pandas().squeeze()\n",
    "\n",
    "unemployment.plot(title='euro area unemployment rate')\n",
    "plt.ylabel('%')\n",
    "plt.show()"
   ]
  },
  {
   "cell_type": "code",
   "execution_count": null,
   "id": "c1cab21c",
   "metadata": {},
   "outputs": [],
   "source": [
    "# real gdp (quarterly, euro area, seasonally adjusted)\n",
    "resp = ecb.data(resource_id='NAMQ_10_GDP', key='..B1GQ.EA19.CLV10_MEUR.SCA')\n",
    "gdp = resp.to_pandas().squeeze()\n",
    "\n",
    "gdp.plot(title='euro area real gdp (quarterly)')\n",
    "plt.ylabel('billion € (chained volumes)')\n",
    "plt.show()"
   ]
  },
  {
   "cell_type": "markdown",
   "id": "80c67aee",
   "metadata": {},
   "source": [
    "## personal note\n",
    "\n",
    "this is part of an effort to use open tools for transparent and reproducible economic analysis.\n",
    "\n",
    "created by nouhayla torki  \n",
    "updated: 2025-05-03"
   ]
  }
 ],
 "metadata": {},
 "nbformat": 4,
 "nbformat_minor": 5
}
